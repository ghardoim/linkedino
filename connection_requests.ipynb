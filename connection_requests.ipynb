{
 "cells": [
  {
   "cell_type": "code",
   "execution_count": 40,
   "metadata": {},
   "outputs": [],
   "source": [
    "from selenium.webdriver.support import expected_conditions as EC\n",
    "from selenium.webdriver.common.action_chains import ActionChains\n",
    "from selenium.webdriver.support.wait import WebDriverWait\n",
    "from selenium.webdriver.common.keys import Keys\n",
    "from selenium.webdriver.common.by import By\n",
    "from selenium.webdriver import Edge"
   ]
  },
  {
   "cell_type": "code",
   "execution_count": 2,
   "metadata": {},
   "outputs": [],
   "source": [
    "class MyBrowser(Edge):\n",
    "    def __init__(self) -> None:\n",
    "\n",
    "        super().__init__()\n",
    "        self.maximize_window()\n",
    "        self.action = ActionChains(self)\n",
    "        self.wait = WebDriverWait(self, 60)\n",
    "        self.get(\"https://www.linkedin.com/search/results/all\")\n",
    "\n",
    "    def xpath_click(self, contains:str, tagname:str=\"button\") -> None:\n",
    "        self.find_element(By.XPATH, \"//{}[text()[contains(.,'{}')]]\".format(tagname, contains)).click()\n",
    "        self.wait.until(EC.presence_of_element_located((By.ID, \"search-reusables__filters-bar\")))\n",
    "\n",
    "    def clear_text(self, input) -> None:\n",
    "        self.action.double_click(input).double_click().send_keys(Keys.DELETE).perform()\n",
    "\n",
    "    def __del__(self) -> None:\n",
    "        self.close()\n",
    "        self.quit()\n"
   ]
  },
  {
   "cell_type": "code",
   "execution_count": 3,
   "metadata": {},
   "outputs": [],
   "source": [
    "browser = MyBrowser()"
   ]
  },
  {
   "cell_type": "code",
   "execution_count": null,
   "metadata": {},
   "outputs": [],
   "source": [
    "search = browser.find_element(By.CLASS_NAME, \"search-global-typeahead__input\")\n",
    "browser.clear_text(search)\n",
    "\n",
    "search.send_keys(\"talent acquisition\" + Keys.ENTER)"
   ]
  },
  {
   "cell_type": "code",
   "execution_count": null,
   "metadata": {},
   "outputs": [],
   "source": [
    "[browser.xpath_click(_filter) for _filter in [\"People\", \"2nd\", \"3rd+\"]]"
   ]
  },
  {
   "cell_type": "code",
   "execution_count": null,
   "metadata": {},
   "outputs": [],
   "source": [
    "browser.xpath_click(\"Locations\")\n",
    "location = browser.find_element(By.XPATH, \"//input[@placeholder='Add a location']\")"
   ]
  },
  {
   "cell_type": "code",
   "execution_count": 35,
   "metadata": {},
   "outputs": [],
   "source": [
    "for country in [\"Estonia\"]:\n",
    "    browser.clear_text(location)\n",
    "    location.send_keys(country)\n",
    "\n",
    "    browser.wait.until(EC.element_to_be_clickable((By.XPATH, \"//div[@role='listbox']\")))\n",
    "    location.send_keys(Keys.ARROW_DOWN)\n",
    "    location.send_keys(Keys.ENTER)\n",
    "\n",
    "browser.xpath_click(\"Show results\", \"span\")"
   ]
  },
  {
   "cell_type": "code",
   "execution_count": 30,
   "metadata": {},
   "outputs": [],
   "source": [
    "confirm = EC.presence_of_element_located((By.XPATH, \"//div[@role='dialog']\"))"
   ]
  },
  {
   "cell_type": "code",
   "execution_count": null,
   "metadata": {},
   "outputs": [],
   "source": [
    "for person in browser.find_element(By.XPATH, \"//ul[@role='list']\").find_elements(By.TAG_NAME, \"li\"):\n",
    "    if \"Connect\" not in person.text: continue\n",
    "\n",
    "    browser.xpath_click(\"Connect\", \"span\")\n",
    "    browser.wait.until(confirm)\n",
    "\n",
    "    browser.xpath_click(\"Send without a note\", \"span\")\n",
    "    browser.wait.until_not(confirm)"
   ]
  },
  {
   "cell_type": "code",
   "execution_count": 27,
   "metadata": {},
   "outputs": [],
   "source": [
    "del browser"
   ]
  }
 ],
 "metadata": {
  "kernelspec": {
   "display_name": "Python 3",
   "language": "python",
   "name": "python3"
  },
  "language_info": {
   "codemirror_mode": {
    "name": "ipython",
    "version": 3
   },
   "file_extension": ".py",
   "mimetype": "text/x-python",
   "name": "python",
   "nbconvert_exporter": "python",
   "pygments_lexer": "ipython3",
   "version": "3.12.6"
  }
 },
 "nbformat": 4,
 "nbformat_minor": 2
}
