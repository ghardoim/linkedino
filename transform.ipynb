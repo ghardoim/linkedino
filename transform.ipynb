{
 "cells": [
  {
   "cell_type": "code",
   "execution_count": null,
   "metadata": {},
   "outputs": [],
   "source": [
    "from langchain_community.document_loaders.csv_loader import CSVLoader\n",
    "from langchain_google_genai import ChatGoogleGenerativeAI\n",
    "from langchain_core.prompts import ChatPromptTemplate\n",
    "from os import environ\n",
    "import datetime as dt\n",
    "import pandas as pd"
   ]
  },
  {
   "cell_type": "code",
   "execution_count": null,
   "metadata": {},
   "outputs": [],
   "source": [
    "environ[\"GOOGLE_API_KEY\"] = \"\"\n",
    "\n",
    "data = CSVLoader(\"data.csv\", encoding=\"ISO-8859-1\").load()\n",
    "llm = ChatGoogleGenerativeAI(model=\"gemini-1.5-pro\", temperature=0, max_tokens=None, timeout=None, max_retries=5)\n",
    "\n",
    "prompt = ChatPromptTemplate.from_template(\"\"\"\n",
    "    # You're a young programmer and wants to analyze your historical job data.\n",
    "    # This data set was scrappd from your linkedin profile and your mission is create new column with the following categories:\n",
    "    \n",
    "    # With the Position column, you can get the Role and Seniority categories.\n",
    "    # With the Location column, you can get the Model and Region categories.\n",
    "    # With the Last Status column, you can get the Status category.\n",
    "    # With the Last Status column you also can get the Date category, for that use (Years, Months, Days) as the format.\n",
    "\n",
    "    # The Role category must be one of the following:\n",
    "    - RPA, here is anything related to automation\n",
    "    - DevOps\n",
    "    - Data\n",
    "    - SRE\n",
    "\n",
    "    # The Seniority category must be one of the following:\n",
    "    - Intern\n",
    "    - Junior\n",
    "    - Mid\n",
    "    - Senior\n",
    "    - Lead\n",
    "    - Manager\n",
    "\n",
    "    # The Region category must be one of the following:\n",
    "    - North America\n",
    "    - South America\n",
    "    - Europe\n",
    "    - Asia\n",
    "    - Africa\n",
    "    - Oceania\n",
    "\n",
    "    # The Model category must be one of the following:\n",
    "    - Remote\n",
    "    - Onsite\n",
    "    - Hybrid\n",
    "\n",
    "    # The Status category must be one of the following:\n",
    "    - Applied\n",
    "    - Viewed\n",
    "    - Downloaded\n",
    "    - Untracked, if was applied in the company site\n",
    "\n",
    "    # The data set is as follows:\n",
    "    {data}\n",
    "\n",
    "    # For any of these new columns, if the value is not found, you should just leave it blank.\n",
    "    # Give a clean answer. Don't use the catergories names, just the values separeted by semicolon.\n",
    "\"\"\")\n",
    "\n",
    "# chain.batch(inputs=data)\n",
    "categories = [(prompt | llm).invoke(input=d).content for d in data]"
   ]
  },
  {
   "cell_type": "code",
   "execution_count": null,
   "metadata": {},
   "outputs": [],
   "source": [
    "jobs = pd.read_csv(\"data/jobs.csv\")"
   ]
  },
  {
   "cell_type": "code",
   "execution_count": null,
   "metadata": {},
   "outputs": [],
   "source": [
    "jobs[\"Model\"] = jobs[\"Location\"].apply(lambda l: l[l.find(\"(\") + 1 : l.find(\")\")] if \"(\" in l else \"\")\n",
    "jobs[\"Location\"] = jobs[\"Location\"].apply(lambda l: l[:l.find(\"(\") - 1] if \"(\" in l else l)\n",
    "jobs[\"Status\"] = jobs[\"Last Status\"].apply(lambda s: s.split(\" \")[-3].lower())\n",
    "jobs[\"Updated\"] = jobs[\"Last Status\"].apply(lambda s: s.split(\" \")[-2])"
   ]
  },
  {
   "cell_type": "code",
   "execution_count": null,
   "metadata": {},
   "outputs": [],
   "source": [
    "jobs[\"Updated\"] = jobs[\"Updated\"].apply(lambda t: \"0yr\" if not t.endswith(\"yr\") else t)\n",
    "jobs[\"When\"] = jobs[\"Updated\"].apply(lambda y: (dt.datetime.today() - dt.timedelta(weeks=52 * int(y[0]))).year)"
   ]
  },
  {
   "cell_type": "code",
   "execution_count": null,
   "metadata": {},
   "outputs": [],
   "source": [
    "jobs.drop(columns=[\"Last Status\"]).to_excel(\"data/jobs.xlsx\", index=False)"
   ]
  }
 ],
 "metadata": {
  "kernelspec": {
   "display_name": "Python 3",
   "language": "python",
   "name": "python3"
  },
  "language_info": {
   "codemirror_mode": {
    "name": "ipython",
    "version": 3
   },
   "file_extension": ".py",
   "mimetype": "text/x-python",
   "name": "python",
   "nbconvert_exporter": "python",
   "pygments_lexer": "ipython3",
   "version": "3.10.5"
  }
 },
 "nbformat": 4,
 "nbformat_minor": 2
}
