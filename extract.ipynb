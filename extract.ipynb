{
 "cells": [
  {
   "cell_type": "code",
   "execution_count": null,
   "metadata": {},
   "outputs": [],
   "source": [
    "from selenium.webdriver.support import expected_conditions as EC\n",
    "from selenium.webdriver.support.ui import WebDriverWait\n",
    "from selenium.webdriver.common.by import By\n",
    "from selenium.webdriver import Edge\n",
    "import pandas as pd"
   ]
  },
  {
   "cell_type": "code",
   "execution_count": null,
   "metadata": {},
   "outputs": [],
   "source": [
    "URL_INVITATIONS = \"https://www.linkedin.com/mynetwork/invitation-manager/sent/?page=N\"\n",
    "URL_JOBS = \"https://www.linkedin.com/my-items/saved-jobs/?cardType=APPLIED\""
   ]
  },
  {
   "cell_type": "code",
   "execution_count": null,
   "metadata": {},
   "outputs": [],
   "source": [
    "browser = Edge()\n",
    "browser.maximize_window()\n",
    "waits = WebDriverWait(browser, 10)"
   ]
  },
  {
   "cell_type": "code",
   "execution_count": null,
   "metadata": {},
   "outputs": [],
   "source": [
    "browser.get(URL_INVITATIONS)\n",
    "\n",
    "for invitation in browser.find_elements(By.CLASS_NAME, \"invitation-card__container\"):\n",
    "\n",
    "    waits.until(EC.element_to_be_clickable(\n",
    "        invitation.find_element(By.CLASS_NAME, \"invitation-card__action-btn\"))).click()\n",
    "\n",
    "    waits.until(EC.visibility_of_element_located(\n",
    "        (By.CLASS_NAME, \"artdeco-button--primary.artdeco-modal__confirm-dialog-btn\"))).click()"
   ]
  },
  {
   "cell_type": "code",
   "execution_count": null,
   "metadata": {},
   "outputs": [],
   "source": [
    "browser.get(URL_JOBS)"
   ]
  },
  {
   "cell_type": "code",
   "execution_count": null,
   "metadata": {},
   "outputs": [],
   "source": [
    "jobs = []\n",
    "while True:\n",
    "    print(waits.until(EC.visibility_of_element_located((By.XPATH, \"//button[@aria-current='true']\"))).text, end=\" \")\n",
    "    for job in waits.until(EC.visibility_of_all_elements_located((By.CLASS_NAME, \"reusable-search__result-container\"))):\n",
    "\n",
    "        jobs.append({key: job.find_element(By.CLASS_NAME, value).text for key, value in [\n",
    "            (\"Position\", \"entity-result__title-line\"), (\"Company\", \"entity-result__primary-subtitle\"),\n",
    "            (\"Location\", \"entity-result__secondary-subtitle\"), (\"Last Status\", \"reusable-search-simple-insight\")\n",
    "        ]})\n",
    "\n",
    "    btn = browser.find_element(By.XPATH, \"//button[@aria-label='Next']\")\n",
    "    if not btn.is_enabled(): break\n",
    "\n",
    "    browser.execute_script(\"arguments[0].click();\", btn)"
   ]
  },
  {
   "cell_type": "code",
   "execution_count": null,
   "metadata": {},
   "outputs": [],
   "source": [
    "browser.close()"
   ]
  },
  {
   "cell_type": "code",
   "execution_count": null,
   "metadata": {},
   "outputs": [],
   "source": [
    "pd.DataFrame(jobs).to_csv(\"data/jobs.csv\", index=False)"
   ]
  }
 ],
 "metadata": {
  "kernelspec": {
   "display_name": "Python 3",
   "language": "python",
   "name": "python3"
  },
  "language_info": {
   "codemirror_mode": {
    "name": "ipython",
    "version": 3
   },
   "file_extension": ".py",
   "mimetype": "text/x-python",
   "name": "python",
   "nbconvert_exporter": "python",
   "pygments_lexer": "ipython3",
   "version": "3.10.5"
  }
 },
 "nbformat": 4,
 "nbformat_minor": 2
}
