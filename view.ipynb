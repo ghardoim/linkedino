{
 "cells": [
  {
   "cell_type": "code",
   "execution_count": null,
   "metadata": {},
   "outputs": [],
   "source": [
    "import matplotlib.pyplot as plt\n",
    "import pandas as pd"
   ]
  },
  {
   "cell_type": "code",
   "execution_count": null,
   "metadata": {},
   "outputs": [],
   "source": [
    "jobs = pd.read_excel(\"data/jobs.xlsx\").sort_values(\"Updated\").fillna(\"N/A\")"
   ]
  },
  {
   "cell_type": "code",
   "execution_count": null,
   "metadata": {},
   "outputs": [],
   "source": [
    "def create(title:str) -> tuple:\n",
    "    fig, ax = plt.subplots()\n",
    "    fig.set_figwidth(12)\n",
    "\n",
    "    plt.grid(axis=\"y\", color=\"white\", linewidth=0.3, zorder=0)\n",
    "\n",
    "    fig.set_facecolor(\"#272727\")\n",
    "    ax.set_facecolor(\"none\")\n",
    "\n",
    "    ax.yaxis.set_ticks_position(\"none\")\n",
    "    ax.xaxis.set_ticks_position(\"none\")\n",
    "\n",
    "    ax.tick_params(axis=\"y\", colors=\"white\")\n",
    "    ax.tick_params(axis=\"x\", colors=\"white\")\n",
    "\n",
    "    plt.xticks(rotation = 45)\n",
    "\n",
    "    [ ax.spines[s].set_visible(False) for s in ax.spines ]\n",
    "\n",
    "    ax.set_title(title, pad=25, color=\"white\")\n",
    "\n",
    "    return fig, ax"
   ]
  },
  {
   "cell_type": "code",
   "execution_count": null,
   "metadata": {},
   "outputs": [],
   "source": [
    "def generate(by:str) -> None:\n",
    "    fig, ax = create(f\"By {by}\")\n",
    "\n",
    "    colors = [\"#009739\", \"#0083E6\", \"#FEDD00\", \"#FB6107\"]\n",
    "    categories = jobs[by].unique()\n",
    "    years = jobs[\"When\"].unique()\n",
    "    data = jobs[[\"When\", by]]\n",
    "\n",
    "    def this(year) -> pd.DataFrame:\n",
    "        return data[data[\"When\"] == year]\n",
    "\n",
    "    df = pd.DataFrame({year: {status: len(this(year)[this(year)[by] == status]) for status, _ in zip(categories, colors)} for year in years}).T\n",
    "\n",
    "    for status, color in zip(categories, colors):\n",
    "        ax.bar(df.index, df[status], width=0.35, align=\"edge\", label=status, color=color)\n",
    "\n",
    "    fig.legend(jobs[by].unique(), loc=\"center right\")\n",
    "    fig.savefig(f\"imgs/bar/by{by}.png\")\n",
    "\n",
    "    fig, ax = create(f\"By {by}\")\n",
    "    *_, texts = ax.pie(jobs[by].value_counts(), colors=colors, labels=categories)\n",
    "\n",
    "    [text.set_color(\"white\") for text in texts]\n",
    "    fig.savefig(f\"imgs/pie/by{by}.png\")"
   ]
  },
  {
   "cell_type": "code",
   "execution_count": null,
   "metadata": {},
   "outputs": [],
   "source": [
    "[generate(category) for category in [\"Status\", \"Model\"]]"
   ]
  }
 ],
 "metadata": {
  "kernelspec": {
   "display_name": "Python 3",
   "language": "python",
   "name": "python3"
  },
  "language_info": {
   "codemirror_mode": {
    "name": "ipython",
    "version": 3
   },
   "file_extension": ".py",
   "mimetype": "text/x-python",
   "name": "python",
   "nbconvert_exporter": "python",
   "pygments_lexer": "ipython3",
   "version": "3.10.5"
  }
 },
 "nbformat": 4,
 "nbformat_minor": 2
}
